{
 "cells": [
  {
   "cell_type": "code",
   "execution_count": 9,
   "metadata": {},
   "outputs": [],
   "source": [
    "import numpy as np\n",
    "import pickle\n",
    "import torch\n",
    "import matplotlib.pyplot as plt\n",
    "from PIL import Image\n",
    "import warnings\n",
    "warnings.filterwarnings('ignore')"
   ]
  },
  {
   "cell_type": "code",
   "execution_count": 2,
   "metadata": {},
   "outputs": [],
   "source": [
    "with open('./chicagofeature.pickle', 'rb')as f:\n",
    "    chicagofeature = pickle.load(f)\n",
    "\n",
    "chicagofeature = chicagofeature[0].numpy()\n",
    "\n",
    "with open('./chicagolabel.pickle', 'rb')as f:\n",
    "    chicagolabel = pickle.load(f)\n",
    "\n",
    "chicagolabel = chicagolabel[0].numpy()\n",
    "\n",
    "with open('./vitchicago.pickle', 'rb')as f:\n",
    "    vit = pickle.load(f)\n",
    "\n",
    "vit = vit[0].cpu().detach().numpy()\n",
    "\n",
    "with open('./swinvpchicago.pickle', 'rb')as f:\n",
    "    swinvp = pickle.load(f)\n",
    "\n",
    "swinvp = swinvp[0].cpu().detach().numpy()\n",
    "\n",
    "with open('./simvpchicago.pickle', 'rb')as f:\n",
    "    simvp = pickle.load(f)\n",
    "\n",
    "simvp = simvp[0].cpu().detach().numpy()"
   ]
  },
  {
   "cell_type": "code",
   "execution_count": 3,
   "metadata": {},
   "outputs": [],
   "source": [
    "def minmax(data):\n",
    "    data_min = data.min()\n",
    "    data_max = data.max()\n",
    "\n",
    "    norm_data = (data-data_min) / (data_max - data_min)\n",
    "    norm_data = (norm_data * 255.0).astype(np.uint8)\n",
    "    return norm_data"
   ]
  },
  {
   "cell_type": "code",
   "execution_count": 87,
   "metadata": {},
   "outputs": [],
   "source": [
    "index=2"
   ]
  },
  {
   "cell_type": "code",
   "execution_count": 88,
   "metadata": {},
   "outputs": [
    {
     "data": {
      "image/png": "[encoded data removed]",
      "text/plain": [
       "<Figure size 700x300 with 7 Axes>"
      ]
     },
     "metadata": {},
     "output_type": "display_data"
    }
   ],
   "source": [
    "fig, ax = plt.subplots(1, 7, figsize=(7, 3))\n",
    "for i in range(7):\n",
    "    if i==0:\n",
    "        ax[i].set_title(\"Input\", fontsize=12, loc='left')\n",
    "    ax[i].imshow(Image.fromarray(minmax(np.squeeze(chicagofeature[index, i, 0:1]))))\n",
    "    ax[i].axis('off')\n",
    "fig.savefig('Input.png', transparent=True, bbox_inches='tight', pad_inches=0)\n",
    "plt.show()"
   ]
  },
  {
   "cell_type": "code",
   "execution_count": 89,
   "metadata": {},
   "outputs": [
    {
     "data": {
      "image/png": "[encoded data removed]",
      "text/plain": [
       "<Figure size 700x300 with 1 Axes>"
      ]
     },
     "metadata": {},
     "output_type": "display_data"
    }
   ],
   "source": [
    "fig, ax = plt.subplots(1, 1, figsize=(7, 3))\n",
    "ax.set_title(\"GroundTruth\", fontsize=12, loc='left')\n",
    "ax.imshow(Image.fromarray(minmax(np.squeeze(chicagolabel[index,]))))\n",
    "ax.axis('off')\n",
    "fig.savefig('GT.png', transparent=True, bbox_inches='tight', pad_inches=0)\n",
    "plt.show()"
   ]
  },
  {
   "cell_type": "code",
   "execution_count": 90,
   "metadata": {},
   "outputs": [
    {
     "data": {
      "image/png": "[encoded data removed]",
      "text/plain": [
       "<Figure size 700x300 with 1 Axes>"
      ]
     },
     "metadata": {},
     "output_type": "display_data"
    }
   ],
   "source": [
    "fig, ax = plt.subplots(1, 1, figsize=(7, 3))\n",
    "ax.set_title(\"C-ViT\", fontsize=12, loc='left')\n",
    "ax.imshow(Image.fromarray(minmax(np.squeeze(vit[index,]))))\n",
    "ax.axis('off')\n",
    "fig.savefig('vit.png', transparent=True, bbox_inches='tight', pad_inches=0)\n",
    "plt.show()"
   ]
  },
  {
   "cell_type": "code",
   "execution_count": 91,
   "metadata": {},
   "outputs": [
    {
     "data": {
      "image/png": "[encoded data removed]",
      "text/plain": [
       "<Figure size 700x300 with 1 Axes>"
      ]
     },
     "metadata": {},
     "output_type": "display_data"
    }
   ],
   "source": [
    "fig, ax = plt.subplots(1, 1, figsize=(7, 3))\n",
    "ax.set_title(\"SimVP\", fontsize=12, loc='left')\n",
    "ax.imshow(Image.fromarray(minmax(np.squeeze(simvp[index,]))))\n",
    "ax.axis('off')\n",
    "fig.savefig('simvp.png', transparent=True, bbox_inches='tight', pad_inches=0)\n",
    "plt.show()"
   ]
  },
  {
   "cell_type": "code",
   "execution_count": 92,
   "metadata": {},
   "outputs": [
    {
     "data": {
      "image/png": "[encoded data removed]",
      "text/plain": [
       "<Figure size 700x300 with 1 Axes>"
      ]
     },
     "metadata": {},
     "output_type": "display_data"
    }
   ],
   "source": [
    "fig, ax = plt.subplots(1, 1, figsize=(7, 3))\n",
    "ax.set_title(\"SwinVP\", fontsize=12, loc='left')\n",
    "ax.imshow(Image.fromarray(minmax(np.squeeze(swinvp[index,]))))\n",
    "ax.axis('off')\n",
    "fig.savefig('swinvp.png', transparent=True, bbox_inches='tight', pad_inches=0)\n",
    "plt.show()"
   ]
  },
  {
   "cell_type": "code",
   "execution_count": null,
   "metadata": {},
   "outputs": [],
   "source": []
  }
 ],
 "metadata": {
  "kernelspec": {
   "display_name": "jhs_torch",
   "language": "python",
   "name": "python3"
  },
  "language_info": {
   "codemirror_mode": {
    "name": "ipython",
    "version": 3
   },
   "file_extension": ".py",
   "mimetype": "text/x-python",
   "name": "python",
   "nbconvert_exporter": "python",
   "pygments_lexer": "ipython3",
   "version": "3.9.13"
  }
 },
 "nbformat": 4,
 "nbformat_minor": 2
}
